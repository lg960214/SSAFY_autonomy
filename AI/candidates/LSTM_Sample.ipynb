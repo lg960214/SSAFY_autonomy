{
  "nbformat": 4,
  "nbformat_minor": 0,
  "metadata": {
    "colab": {
      "provenance": []
    },
    "kernelspec": {
      "name": "python3",
      "display_name": "Python 3"
    },
    "language_info": {
      "name": "python"
    }
  },
  "cells": [
    {
      "cell_type": "code",
      "execution_count": 1,
      "metadata": {
        "id": "fPjbXQz2lYAS"
      },
      "outputs": [],
      "source": [
        "import torch\n",
        "import torch.nn as nn\n",
        "import numpy as np\n",
        "\n",
        "# 데이터 준비\n",
        "# 단순 사인 파형으로 데이터를 임의로 설정하였습니다.\n",
        "data_size = 10000\n",
        "time_steps = np.linspace(0, 100, data_size, dtype=np.float32)\n",
        "data_sensor01 = np.sin(time_steps)\n",
        "data_sensor02 = np.cos(time_steps)\n",
        "data_light = (data_sensor01 + data_sensor02) / np.sqrt(2)\n",
        "\n",
        "# PyTorch Tensor로 변환하기 위한 전처리\n",
        "ndata_s01 = data_sensor01.reshape(data_size, 1)\n",
        "ndata_s02 = data_sensor02.reshape(data_size, 1)\n",
        "ndata_light = data_light.reshape(data_size,1)\n",
        "mdata = np.concatenate((ndata_s01, ndata_s02, ndata_light), axis=1)\n",
        "\n",
        "# 데이터를 PyTorch Tensor로 변환\n",
        "mdata = torch.Tensor(mdata)"
      ]
    },
    {
      "cell_type": "code",
      "source": [
        "# 데이터 분할\n",
        "# train : valid : test = 8 : 1 : 1\n",
        "train_size = int(data_size * 4 / 5)\n",
        "valid_size = int(data_size / 10)\n",
        "test_size = int(data_size / 10)\n",
        "\n",
        "valid_idx = train_size\n",
        "test_idx = train_size + valid_size\n",
        "\n",
        "train_data = mdata[:valid_idx]\n",
        "valid_data = mdata[valid_idx:test_idx]\n",
        "test_data = mdata[test_idx:]"
      ],
      "metadata": {
        "id": "iUF6DylqULcQ"
      },
      "execution_count": 2,
      "outputs": []
    },
    {
      "cell_type": "code",
      "source": [
        "# LSTM 모델 정의\n",
        "class LSTM(nn.Module):\n",
        "    def __init__(self, input_size, hidden_size, output_size):\n",
        "        super(LSTM, self).__init__()\n",
        "        self.hidden_size = hidden_size\n",
        "        self.lstm = nn.LSTM(input_size, hidden_size, batch_first=True)\n",
        "        self.fc = nn.Linear(hidden_size, output_size)\n",
        "\n",
        "    def forward(self, x):\n",
        "        h0 = torch.zeros(1, x.size(0), self.hidden_size)\n",
        "        c0 = torch.zeros(1, x.size(0), self.hidden_size)\n",
        "        out, _ = self.lstm(x, (h0, c0))\n",
        "        out = self.fc(out)\n",
        "        return out"
      ],
      "metadata": {
        "id": "f0o46uLnULYQ"
      },
      "execution_count": 3,
      "outputs": []
    },
    {
      "cell_type": "code",
      "source": [
        "# 모델 및 손실 함수, 옵티마이저 초기화\n",
        "input_size = 2  # 입력 데이터의 열 수 (0열과 1열; 센서의 개수)\n",
        "hidden_size = 64\n",
        "output_size = 1  # 2열 값(data_light)을 예측\n",
        "model = LSTM(input_size, hidden_size, output_size)\n",
        "criterion = nn.MSELoss()\n",
        "optimizer = torch.optim.Adam(model.parameters(), lr=0.001)"
      ],
      "metadata": {
        "id": "cUuf5rn_ULTG"
      },
      "execution_count": 4,
      "outputs": []
    },
    {
      "cell_type": "code",
      "source": [
        "print(type(train_data))\n",
        "print(train_data.shape)"
      ],
      "metadata": {
        "colab": {
          "base_uri": "https://localhost:8080/"
        },
        "id": "Q_3v8mAdZj19",
        "outputId": "6d17b5b5-4c2d-428e-fefe-cfdb396e2b25"
      },
      "execution_count": 5,
      "outputs": [
        {
          "output_type": "stream",
          "name": "stdout",
          "text": [
            "<class 'torch.Tensor'>\n",
            "torch.Size([8000, 3])\n"
          ]
        }
      ]
    },
    {
      "cell_type": "code",
      "source": [
        "# 훈련 루프\n",
        "num_epochs = 100\n",
        "for epoch in range(num_epochs):\n",
        "\n",
        "    inputs = train_data[:, :2].view(1, train_size, input_size)\n",
        "    targets = train_data[:, 2:].view(1, train_size, output_size)\n",
        "    outputs = model(inputs)\n",
        "    optimizer.zero_grad()\n",
        "    loss = criterion(outputs, targets)\n",
        "    loss.backward()\n",
        "    optimizer.step()\n",
        "\n",
        "    if (epoch + 1) % 10 == 0:\n",
        "        print(f'Epoch [{epoch+1}/{num_epochs}], Loss: {loss.item():.4f}')\n",
        "\n",
        "print('훈련 완료!')"
      ],
      "metadata": {
        "colab": {
          "base_uri": "https://localhost:8080/"
        },
        "id": "HKey3-cgULMm",
        "outputId": "58b6b36d-150c-4071-9675-e3277a197a03"
      },
      "execution_count": 6,
      "outputs": [
        {
          "output_type": "stream",
          "name": "stdout",
          "text": [
            "Epoch [10/100], Loss: 0.4088\n",
            "Epoch [20/100], Loss: 0.2457\n",
            "Epoch [30/100], Loss: 0.0385\n",
            "Epoch [40/100], Loss: 0.0093\n",
            "Epoch [50/100], Loss: 0.0042\n",
            "Epoch [60/100], Loss: 0.0031\n",
            "Epoch [70/100], Loss: 0.0025\n",
            "Epoch [80/100], Loss: 0.0017\n",
            "Epoch [90/100], Loss: 0.0012\n",
            "Epoch [100/100], Loss: 0.0009\n",
            "훈련 완료!\n"
          ]
        }
      ]
    },
    {
      "cell_type": "code",
      "source": [
        "# 검증 데이터로 테스트\n",
        "# 평가 모드로 바꾸고\n",
        "# inference"
      ],
      "metadata": {
        "id": "Za-qBcHhterA"
      },
      "execution_count": 7,
      "outputs": []
    },
    {
      "cell_type": "code",
      "source": [
        "# 테스트 데이터로 예측\n",
        "test_input = test_data[:, :2].view(1, test_size, input_size)\n",
        "test_predict = model(test_input)"
      ],
      "metadata": {
        "id": "KvQYFjlwlpmB"
      },
      "execution_count": 8,
      "outputs": []
    },
    {
      "cell_type": "code",
      "source": [
        "# 테스트 데이터 기반 예측 결과를 시각화\n",
        "import matplotlib.pyplot as plt\n",
        "\n",
        "plt.plot(time_steps[test_idx:], ndata_light[test_idx:], 'r', label='Real data')\n",
        "plt.plot(time_steps[test_idx:], test_predict.detach().numpy()[0], 'b', label='Predict data')\n",
        "plt.legend()\n",
        "plt.show()"
      ],
      "metadata": {
        "colab": {
          "base_uri": "https://localhost:8080/",
          "height": 430
        },
        "id": "vGMf_de0lYcm",
        "outputId": "f32724ac-1b46-4f08-924c-37044464810d"
      },
      "execution_count": 9,
      "outputs": [
        {
          "output_type": "display_data",
          "data": {
            "text/plain": [
              "<Figure size 640x480 with 1 Axes>"
            ],
            "image/png": "[encoded data removed]"
          },
          "metadata": {}
        }
      ]
    },
    {
      "cell_type": "code",
      "source": [
        "# 현재 학습한 모델 저장\n",
        "torch.save(model, 'LSTM_Sample.pth')"
      ],
      "metadata": {
        "id": "sJ93kKxcnJLy"
      },
      "execution_count": 10,
      "outputs": []
    },
    {
      "cell_type": "code",
      "source": [
        "# 모델 호출\n",
        "savedModel = torch.load('LSTM_Sample.pth')"
      ],
      "metadata": {
        "id": "XXb0-Dw2ijLT"
      },
      "execution_count": 11,
      "outputs": []
    },
    {
      "cell_type": "markdown",
      "source": [
        "LSTM_Sample.pth 모델 크기 : 72 KB"
      ],
      "metadata": {
        "id": "mvmntkWk_4MW"
      }
    }
  ]
}