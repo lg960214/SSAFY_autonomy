{
 "cells": [
  {
   "cell_type": "code",
   "execution_count": 1,
   "metadata": {
    "id": "fPjbXQz2lYAS"
   },
   "outputs": [],
   "source": [
    "import tensorflow as tf\n",
    "import numpy as np\n",
    "import matplotlib.pyplot as plt"
   ]
  },
  {
   "cell_type": "code",
   "execution_count": 2,
   "metadata": {
    "id": "iKm49GXbsKDv"
   },
   "outputs": [],
   "source": [
    "# 데이터 준비\n",
    "# 삼각함수 파형으로 데이터를 임의로 설정하였습니다.\n",
    "data_size = 100000\n",
    "time_steps = np.linspace(0, 100, data_size, dtype=np.float16)\n",
    "\n",
    "sensor_cnt = 3\n",
    "\n",
    "data_sensor01 = np.sin(time_steps)\n",
    "data_sensor02 = np.cos(time_steps)\n",
    "# 탄젠트 함수인데 (-2,2) 까지 경계선을 정한 넘파이 배열\n",
    "data_sensor03 = np.clip(np.tan(time_steps), -2, 2)\n",
    "\n",
    "data_light = (data_sensor01 + data_sensor02 + data_sensor03)\n",
    "\n",
    "# Tensorflow Tensor로 변환하기 위한 전처리\n",
    "ndata_s01 = data_sensor01.reshape(data_size, 1)\n",
    "ndata_s02 = data_sensor02.reshape(data_size, 1)\n",
    "\n",
    "ndata_s03 = data_sensor03.reshape(data_size, 1)\n",
    "\n",
    "ndata_light = data_light.reshape(data_size,1)\n",
    "mdata = np.concatenate((ndata_s01, ndata_s02, ndata_s03, ndata_light), axis=1)"
   ]
  },
  {
   "cell_type": "code",
   "execution_count": 3,
   "metadata": {
    "colab": {
     "base_uri": "https://localhost:8080/"
    },
    "id": "4F_FQ1KnsXk8",
    "outputId": "cfb79725-8397-4b62-d333-145afd70dc11"
   },
   "outputs": [],
   "source": [
    "# sequence data loader 정의\n",
    "def load_data(raw, look_back):\n",
    "    data_raw = raw\n",
    "    data = []\n",
    "\n",
    "    # create all possible sequences of length look_back\n",
    "    for index in range(len(data_raw) - look_back):\n",
    "        data.append(data_raw[index: index + look_back])\n",
    "\n",
    "    data = np.array(data);\n",
    "    test_set_size = int(np.round(0.1*data.shape[0]));\n",
    "    train_set_size = data.shape[0] - (test_set_size);\n",
    "\n",
    "    x_train = data[:train_set_size,:,:sensor_cnt]\n",
    "    y_train = data[:train_set_size,-1,sensor_cnt:]\n",
    "\n",
    "    x_test = data[train_set_size:,:, :sensor_cnt]\n",
    "    y_test = data[train_set_size:,-1,sensor_cnt:]\n",
    "\n",
    "    return [x_train, y_train, x_test, y_test]\n",
    "\n",
    "# look back 의 의미 : 특정 크기의 단위만큼 이전 값을 고려한다\n",
    "# 단위는 초(seconds) 가 될 것이라 예상"
   ]
  },
  {
   "cell_type": "code",
   "execution_count": 4,
   "metadata": {},
   "outputs": [
    {
     "name": "stdout",
     "output_type": "stream",
     "text": [
      "x_train.shape =  (89991, 10, 3)\n",
      "y_train.shape =  (89991, 1)\n",
      "x_test.shape =  (9999, 10, 3)\n",
      "y_test.shape =  (9999, 1)\n"
     ]
    }
   ],
   "source": [
    "sequence_size = 10 # choose sequence length\n",
    "x_train, y_train, x_test, y_test = load_data(mdata, sequence_size)\n",
    "print('x_train.shape = ',x_train.shape)\n",
    "print('y_train.shape = ',y_train.shape)\n",
    "print('x_test.shape = ',x_test.shape)\n",
    "print('y_test.shape = ',y_test.shape)"
   ]
  },
  {
   "cell_type": "code",
   "execution_count": 5,
   "metadata": {},
   "outputs": [],
   "source": [
    "# numpy to tensor\n",
    "x_train = tf.convert_to_tensor(x_train)\n",
    "x_test = tf.convert_to_tensor(x_test)\n",
    "y_train = tf.convert_to_tensor(y_train)\n",
    "y_test = tf.convert_to_tensor(y_test)"
   ]
  },
  {
   "cell_type": "code",
   "execution_count": 6,
   "metadata": {
    "id": "f0o46uLnULYQ"
   },
   "outputs": [],
   "source": [
    "# LSTM 모델 정의\n",
    "from tensorflow.keras.layers import LSTM, Dense\n",
    "from tensorflow.keras.models import Sequential\n",
    "model = Sequential()\n",
    "model.add(LSTM(64,\n",
    "               input_shape = (sequence_size, sensor_cnt),\n",
    "              return_sequences=True))\n",
    "model.add(LSTM(64))\n",
    "model.add(Dense(1))"
   ]
  },
  {
   "cell_type": "code",
   "execution_count": 7,
   "metadata": {
    "id": "cUuf5rn_ULTG"
   },
   "outputs": [],
   "source": [
    "#모델 컴파일\n",
    "model.compile(optimizer = 'adam',\n",
    "              loss='mean_squared_error',\n",
    "             )"
   ]
  },
  {
   "cell_type": "code",
   "execution_count": 8,
   "metadata": {},
   "outputs": [
    {
     "name": "stdout",
     "output_type": "stream",
     "text": [
      "Model: \"sequential\"\n",
      "_________________________________________________________________\n",
      " Layer (type)                Output Shape              Param #   \n",
      "=================================================================\n",
      " lstm (LSTM)                 (None, 10, 64)            17408     \n",
      "                                                                 \n",
      " lstm_1 (LSTM)               (None, 64)                33024     \n",
      "                                                                 \n",
      " dense (Dense)               (None, 1)                 65        \n",
      "                                                                 \n",
      "=================================================================\n",
      "Total params: 50497 (197.25 KB)\n",
      "Trainable params: 50497 (197.25 KB)\n",
      "Non-trainable params: 0 (0.00 Byte)\n",
      "_________________________________________________________________\n"
     ]
    }
   ],
   "source": [
    "# 모델 요약\n",
    "model.summary()"
   ]
  },
  {
   "cell_type": "code",
   "execution_count": 9,
   "metadata": {
    "colab": {
     "base_uri": "https://localhost:8080/"
    },
    "id": "HKey3-cgULMm",
    "outputId": "8b80d683-c74d-4da8-8afd-0c5cfa88791e"
   },
   "outputs": [
    {
     "name": "stdout",
     "output_type": "stream",
     "text": [
      "Epoch 1/10\n",
      "2306/2306 [==============================] - 13s 5ms/step - loss: 0.0159 - val_loss: 7.5596e-04\n",
      "Epoch 2/10\n",
      "2306/2306 [==============================] - 11s 5ms/step - loss: 3.5854e-04 - val_loss: 5.0151e-04\n",
      "Epoch 3/10\n",
      "2306/2306 [==============================] - 11s 5ms/step - loss: 2.7826e-04 - val_loss: 6.6016e-04\n",
      "Epoch 4/10\n",
      "2306/2306 [==============================] - 11s 5ms/step - loss: 2.5483e-04 - val_loss: 2.8865e-04\n",
      "Epoch 5/10\n",
      "2306/2306 [==============================] - 11s 5ms/step - loss: 1.7701e-04 - val_loss: 8.3124e-05\n",
      "Epoch 6/10\n",
      "2306/2306 [==============================] - 11s 5ms/step - loss: 9.6758e-05 - val_loss: 3.0964e-05\n",
      "Epoch 7/10\n",
      "2306/2306 [==============================] - 11s 5ms/step - loss: 1.1884e-04 - val_loss: 2.3418e-05\n",
      "Epoch 8/10\n",
      "2306/2306 [==============================] - 11s 5ms/step - loss: 6.0251e-05 - val_loss: 1.3454e-04\n",
      "Epoch 9/10\n",
      "2306/2306 [==============================] - 11s 5ms/step - loss: 7.3886e-05 - val_loss: 8.9462e-06\n",
      "Epoch 10/10\n",
      "2306/2306 [==============================] - 11s 5ms/step - loss: 6.4639e-05 - val_loss: 1.1212e-05\n"
     ]
    }
   ],
   "source": [
    "#모델 학습\n",
    "history = model.fit(x_train, y_train, \n",
    "                    epochs = 10, \n",
    "                    batch_size = 32,\n",
    "                    validation_split=0.18)"
   ]
  },
  {
   "cell_type": "code",
   "execution_count": 10,
   "metadata": {
    "colab": {
     "base_uri": "https://localhost:8080/",
     "height": 605
    },
    "id": "Yrp022rEu3K4",
    "outputId": "213f888c-9ddf-4af7-d7aa-521222766c66"
   },
   "outputs": [
    {
     "data": {
      "image/png": "[encoded data removed]",
      "text/plain": [
       "<Figure size 640x480 with 1 Axes>"
      ]
     },
     "metadata": {},
     "output_type": "display_data"
    }
   ],
   "source": [
    "import matplotlib.pyplot as plt\n",
    "\n",
    "# 학습 과정 시각화\n",
    "plt.plot(history.history['loss'], label='Train Loss')\n",
    "plt.plot(history.history['val_loss'], label='Validation Loss')\n",
    "plt.xlabel('Epochs')\n",
    "plt.ylabel('Loss')\n",
    "plt.legend()\n",
    "plt.show()"
   ]
  },
  {
   "cell_type": "code",
   "execution_count": 11,
   "metadata": {
    "colab": {
     "base_uri": "https://localhost:8080/"
    },
    "id": "GJE9IehrumrH",
    "outputId": "ebcb6290-e12c-4124-e586-7ae28235bddb"
   },
   "outputs": [
    {
     "name": "stdout",
     "output_type": "stream",
     "text": [
      "313/313 [==============================] - 1s 2ms/step - loss: 8.0901e-06\n",
      "Test loss : 0.001%\n"
     ]
    }
   ],
   "source": [
    "# 모델 평가\n",
    "results = model.evaluate(x_test, y_test)\n",
    "print(f'Test loss : {results:.3%}')"
   ]
  },
  {
   "cell_type": "code",
   "execution_count": 12,
   "metadata": {},
   "outputs": [
    {
     "name": "stdout",
     "output_type": "stream",
     "text": [
      "313/313 [==============================] - 1s 2ms/step\n"
     ]
    },
    {
     "data": {
      "image/png": "[encoded data removed]",
      "text/plain": [
       "<Figure size 1200x600 with 1 Axes>"
      ]
     },
     "metadata": {},
     "output_type": "display_data"
    }
   ],
   "source": [
    "# 예측\n",
    "y_pred = model.predict(x_test)\n",
    "\n",
    "# 예측 결과 시각화\n",
    "plt.figure(figsize=(12, 6))\n",
    "plt.plot(y_test, label='Actual')\n",
    "plt.plot(y_pred, label='Predicted')\n",
    "plt.xlabel('Sample')\n",
    "plt.ylabel('Value')\n",
    "plt.legend()\n",
    "plt.show()"
   ]
  },
  {
   "cell_type": "code",
   "execution_count": 13,
   "metadata": {
    "id": "sJ93kKxcnJLy"
   },
   "outputs": [
    {
     "name": "stdout",
     "output_type": "stream",
     "text": [
      "INFO:tensorflow:Assets written to: LSTM_231031/assets\n"
     ]
    },
    {
     "name": "stderr",
     "output_type": "stream",
     "text": [
      "INFO:tensorflow:Assets written to: LSTM_231031/assets\n"
     ]
    }
   ],
   "source": [
    "# 현재 학습한 모델 저장\n",
    "# 모델 전체 정보를 저장\n",
    "# 텐서플로에서는 하나의 디렉토리에 저장함\n",
    "model.save(\"LSTM_231031\")"
   ]
  },
  {
   "cell_type": "code",
   "execution_count": 16,
   "metadata": {},
   "outputs": [
    {
     "name": "stdout",
     "output_type": "stream",
     "text": [
      "tf.Tensor(\n",
      "[[-0.5063  0.8623 -0.5874]\n",
      " [-0.5063  0.8623 -0.5874]\n",
      " [-0.5063  0.8623 -0.5874]\n",
      " [-0.5063  0.8623 -0.5874]\n",
      " [-0.5063  0.8623 -0.5874]\n",
      " [-0.5063  0.8623 -0.5874]\n",
      " [-0.5063  0.8623 -0.5874]\n",
      " [-0.5063  0.8623 -0.5874]\n",
      " [-0.5063  0.8623 -0.5874]\n",
      " [-0.5063  0.8623 -0.5874]], shape=(10, 3), dtype=float16)\n"
     ]
    }
   ],
   "source": [
    "test_input = x_test[-1]\n",
    "print(test_input)"
   ]
  },
  {
   "cell_type": "code",
   "execution_count": 22,
   "metadata": {},
   "outputs": [
    {
     "data": {
      "text/plain": [
       "<tf.Tensor: shape=(1, 10, 3), dtype=float16, numpy=\n",
       "array([[[-0.5063,  0.8623, -0.5874],\n",
       "        [-0.5063,  0.8623, -0.5874],\n",
       "        [-0.5063,  0.8623, -0.5874],\n",
       "        [-0.5063,  0.8623, -0.5874],\n",
       "        [-0.5063,  0.8623, -0.5874],\n",
       "        [-0.5063,  0.8623, -0.5874],\n",
       "        [-0.5063,  0.8623, -0.5874],\n",
       "        [-0.5063,  0.8623, -0.5874],\n",
       "        [-0.5063,  0.8623, -0.5874],\n",
       "        [-0.5063,  0.8623, -0.5874]]], dtype=float16)>"
      ]
     },
     "execution_count": 22,
     "metadata": {},
     "output_type": "execute_result"
    }
   ],
   "source": [
    "test_input = tf.reshape(test_input, [1,10,3])\n",
    "test_input"
   ]
  },
  {
   "cell_type": "code",
   "execution_count": 28,
   "metadata": {},
   "outputs": [
    {
     "name": "stdout",
     "output_type": "stream",
     "text": [
      "1/1 [==============================] - 0s 11ms/step\n",
      "tf.Tensor([-0.2314], shape=(1,), dtype=float16)\n",
      "[[-0.2308701]]\n"
     ]
    }
   ],
   "source": [
    "test_ans = y_test[-1]\n",
    "test_pre = model.predict(test_input)\n",
    "print(test_ans)\n",
    "print(test_pre)"
   ]
  },
  {
   "cell_type": "markdown",
   "metadata": {},
   "source": [
    "### 하이퍼 파라미터 튜닝\n",
    "\n",
    "- 모델의 성능을 개선하기 위해 변수들을 조절함\n",
    "- 모델은 추론에 있어 정확성을 지니면서, 동시에 과적합을 방지해야 함\n",
    "- 현재 프로세스에서 튜닝할 수 있는 파라미터들\n",
    "    - **sqeuence_size (= look_back)**\n",
    "    - **LSTM layer의 hidden_size**\n",
    "    - batch_size\n",
    "    - learning_rate\n",
    "    - 활성화 함수\n",
    "    - 최적화 함수\n",
    "    - 계층의 크기(혹은 깊이) 등..."
   ]
  }
 ],
 "metadata": {
  "colab": {
   "provenance": []
  },
  "kernelspec": {
   "display_name": "Python 3",
   "language": "python",
   "name": "python3"
  },
  "language_info": {
   "codemirror_mode": {
    "name": "ipython",
    "version": 3
   },
   "file_extension": ".py",
   "mimetype": "text/x-python",
   "name": "python",
   "nbconvert_exporter": "python",
   "pygments_lexer": "ipython3",
   "version": "3.8.10"
  }
 },
 "nbformat": 4,
 "nbformat_minor": 1
}
