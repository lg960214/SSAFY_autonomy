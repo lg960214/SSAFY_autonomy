{
 "cells": [
  {
   "cell_type": "code",
   "execution_count": 1,
   "metadata": {
    "id": "fPjbXQz2lYAS"
   },
   "outputs": [],
   "source": [
    "import tensorflow as tf\n",
    "import numpy as np\n",
    "import matplotlib.pyplot as plt"
   ]
  },
  {
   "cell_type": "code",
   "execution_count": 2,
   "metadata": {
    "id": "iKm49GXbsKDv"
   },
   "outputs": [],
   "source": [
    "# Data load\n",
    "# input your data path (.csv)\n",
    "file_path = \"./sample_231103_01.csv\"\n",
    "mdata = np.genfromtxt(file_path, delimiter=\",\", dtype=int)\n",
    "# year, month, day, hour, min, seconds, weekend\n",
    "time_size = 7 \n",
    "feature_size = mdata.shape[1] - time_size - 1"
   ]
  },
  {
   "cell_type": "code",
   "execution_count": 3,
   "metadata": {
    "colab": {
     "base_uri": "https://localhost:8080/"
    },
    "id": "4F_FQ1KnsXk8",
    "outputId": "cfb79725-8397-4b62-d333-145afd70dc11"
   },
   "outputs": [],
   "source": [
    "# sequence data loader 정의\n",
    "def load_data(raw, look_back, feature_cnt):\n",
    "    data_raw = raw\n",
    "    data = []\n",
    "\n",
    "    # create all possible sequences of length look_back\n",
    "    for index in range(len(data_raw) - look_back):\n",
    "        data.append(data_raw[index: index + look_back])\n",
    "\n",
    "    data = np.array(data);\n",
    "    test_set_size = int(np.round(0.1*data.shape[0]));\n",
    "    train_set_size = data.shape[0] - (test_set_size);\n",
    "\n",
    "    x_train = data[:train_set_size,:,:feature_cnt]\n",
    "    y_train = data[:train_set_size,-1,feature_cnt:]\n",
    "\n",
    "    x_test = data[train_set_size:,:, :feature_cnt]\n",
    "    y_test = data[train_set_size:,-1,feature_cnt:]\n",
    "\n",
    "    return [x_train, y_train, x_test, y_test]\n",
    "\n",
    "# look back 의 의미 : 특정 크기의 단위만큼 이전 값을 고려한다\n",
    "# 단위는 초(seconds) 가 될 것이라 예상"
   ]
  },
  {
   "cell_type": "code",
   "execution_count": 4,
   "metadata": {},
   "outputs": [],
   "source": [
    "# choose sequence length\n",
    "sequence_size = 10"
   ]
  },
  {
   "cell_type": "code",
   "execution_count": 5,
   "metadata": {},
   "outputs": [
    {
     "name": "stdout",
     "output_type": "stream",
     "text": [
      "x_train_t.shape =  (777591, 7)\n",
      "x_test_t.shape =  (86399, 7)\n"
     ]
    }
   ],
   "source": [
    "# Time data parsing\n",
    "from sklearn.model_selection import train_test_split\n",
    "x_train_t, x_test_t = train_test_split(mdata[:-sequence_size,:time_size], \n",
    "                                                    test_size=0.1, random_state=42,\n",
    "                                                   shuffle=False)\n",
    "\n",
    "print('x_train_t.shape = ',x_train_t.shape)\n",
    "print('x_test_t.shape = ',x_test_t.shape)"
   ]
  },
  {
   "cell_type": "code",
   "execution_count": 6,
   "metadata": {},
   "outputs": [
    {
     "name": "stdout",
     "output_type": "stream",
     "text": [
      "x_train.shape =  (777591, 10, 1)\n",
      "y_train.shape =  (777591, 1)\n",
      "x_test.shape =  (86399, 10, 1)\n",
      "y_test.shape =  (86399, 1)\n"
     ]
    }
   ],
   "source": [
    "# for LSTM layer\n",
    "# Sensor data parsing\n",
    "\n",
    "x_train, y_train, x_test, y_test = load_data(mdata[:,time_size :], \n",
    "                                            sequence_size,\n",
    "                                            feature_size)\n",
    "print('x_train.shape = ',x_train.shape)\n",
    "print('y_train.shape = ',y_train.shape)\n",
    "print('x_test.shape = ',x_test.shape)\n",
    "print('y_test.shape = ',y_test.shape)"
   ]
  },
  {
   "cell_type": "code",
   "execution_count": 7,
   "metadata": {},
   "outputs": [],
   "source": [
    "from tensorflow.keras.layers import Input, LSTM, Dense, Concatenate\n",
    "from tensorflow.keras.models import Sequential, Model\n",
    "\n",
    "time_input = Input(shape=(time_size, ))\n",
    "sensor_input = Input(shape=(sequence_size, feature_size))"
   ]
  },
  {
   "cell_type": "code",
   "execution_count": 8,
   "metadata": {},
   "outputs": [],
   "source": [
    "# numpy to tensor\n",
    "x_train_t = tf.convert_to_tensor(x_train_t)\n",
    "x_test_t = tf.convert_to_tensor(x_test_t)\n",
    "\n",
    "x_train = tf.convert_to_tensor(x_train)\n",
    "x_test = tf.convert_to_tensor(x_test)\n",
    "\n",
    "y_train = tf.convert_to_tensor(y_train)\n",
    "y_test = tf.convert_to_tensor(y_test)"
   ]
  },
  {
   "cell_type": "code",
   "execution_count": 9,
   "metadata": {},
   "outputs": [],
   "source": [
    "# 1. LSTM 레이어 정의 -> 센서들을 하나로 합침\n",
    "sensor_x = LSTM(64)(sensor_input)\n",
    "sensor_x = Dense(1)(sensor_x)"
   ]
  },
  {
   "cell_type": "code",
   "execution_count": 10,
   "metadata": {},
   "outputs": [],
   "source": [
    "# 2. LSTM 거친 값들을 하나로 합침\n",
    "total_x = Concatenate()([time_input, sensor_x])"
   ]
  },
  {
   "cell_type": "code",
   "execution_count": 11,
   "metadata": {},
   "outputs": [],
   "source": [
    "# 3. 전체 Dense 레이어 정의\n",
    "total_layer = Dense(64)(total_x)\n",
    "pred = Dense(1)(total_layer)"
   ]
  },
  {
   "cell_type": "code",
   "execution_count": 12,
   "metadata": {},
   "outputs": [],
   "source": [
    "model = Model(inputs = [time_input, sensor_input],\n",
    "             outputs = [pred])"
   ]
  },
  {
   "cell_type": "code",
   "execution_count": 13,
   "metadata": {
    "id": "cUuf5rn_ULTG"
   },
   "outputs": [],
   "source": [
    "#모델 컴파일\n",
    "model.compile(optimizer = 'adam',\n",
    "              loss=['mean_squared_error','mean_squared_error']\n",
    "             )"
   ]
  },
  {
   "cell_type": "code",
   "execution_count": 14,
   "metadata": {},
   "outputs": [
    {
     "name": "stdout",
     "output_type": "stream",
     "text": [
      "Model: \"model\"\n",
      "__________________________________________________________________________________________________\n",
      " Layer (type)                Output Shape                 Param #   Connected to                  \n",
      "==================================================================================================\n",
      " input_2 (InputLayer)        [(None, 10, 1)]              0         []                            \n",
      "                                                                                                  \n",
      " lstm (LSTM)                 (None, 64)                   16896     ['input_2[0][0]']             \n",
      "                                                                                                  \n",
      " input_1 (InputLayer)        [(None, 7)]                  0         []                            \n",
      "                                                                                                  \n",
      " dense (Dense)               (None, 1)                    65        ['lstm[0][0]']                \n",
      "                                                                                                  \n",
      " concatenate (Concatenate)   (None, 8)                    0         ['input_1[0][0]',             \n",
      "                                                                     'dense[0][0]']               \n",
      "                                                                                                  \n",
      " dense_1 (Dense)             (None, 64)                   576       ['concatenate[0][0]']         \n",
      "                                                                                                  \n",
      " dense_2 (Dense)             (None, 1)                    65        ['dense_1[0][0]']             \n",
      "                                                                                                  \n",
      "==================================================================================================\n",
      "Total params: 17602 (68.76 KB)\n",
      "Trainable params: 17602 (68.76 KB)\n",
      "Non-trainable params: 0 (0.00 Byte)\n",
      "__________________________________________________________________________________________________\n"
     ]
    }
   ],
   "source": [
    "# 모델 요약\n",
    "model.summary()"
   ]
  },
  {
   "cell_type": "code",
   "execution_count": 15,
   "metadata": {
    "colab": {
     "base_uri": "https://localhost:8080/"
    },
    "id": "HKey3-cgULMm",
    "outputId": "8b80d683-c74d-4da8-8afd-0c5cfa88791e"
   },
   "outputs": [
    {
     "name": "stdout",
     "output_type": "stream",
     "text": [
      "Epoch 1/10\n",
      "19926/19926 [==============================] - 67s 3ms/step - loss: 113.4743 - val_loss: 31.0650\n",
      "Epoch 2/10\n",
      "19926/19926 [==============================] - 65s 3ms/step - loss: 18.9460 - val_loss: 28.5129\n",
      "Epoch 3/10\n",
      "19926/19926 [==============================] - 65s 3ms/step - loss: 13.9556 - val_loss: 50.4557\n",
      "Epoch 4/10\n",
      "19926/19926 [==============================] - 66s 3ms/step - loss: 11.2037 - val_loss: 1.4625\n",
      "Epoch 5/10\n",
      "19926/19926 [==============================] - 65s 3ms/step - loss: 10.3528 - val_loss: 2.6605\n",
      "Epoch 6/10\n",
      "19926/19926 [==============================] - 65s 3ms/step - loss: 8.4844 - val_loss: 14.5977\n",
      "Epoch 7/10\n",
      "19926/19926 [==============================] - 67s 3ms/step - loss: 7.5855 - val_loss: 31.2403\n",
      "Epoch 8/10\n",
      "19926/19926 [==============================] - 66s 3ms/step - loss: 8.3439 - val_loss: 2.0548\n",
      "Epoch 9/10\n",
      "19926/19926 [==============================] - 67s 3ms/step - loss: 6.9978 - val_loss: 18.6737\n",
      "Epoch 10/10\n",
      "19926/19926 [==============================] - 68s 3ms/step - loss: 6.1823 - val_loss: 12.5597\n"
     ]
    }
   ],
   "source": [
    "#모델 학습\n",
    "history = model.fit([x_train_t, x_train], \n",
    "                    [y_train], \n",
    "                    epochs = 10, \n",
    "                    batch_size = 32,\n",
    "                    validation_split=0.18)"
   ]
  },
  {
   "cell_type": "code",
   "execution_count": 16,
   "metadata": {
    "colab": {
     "base_uri": "https://localhost:8080/",
     "height": 605
    },
    "id": "Yrp022rEu3K4",
    "outputId": "213f888c-9ddf-4af7-d7aa-521222766c66"
   },
   "outputs": [
    {
     "data": {
      "image/png": "[encoded data removed]",
      "text/plain": [
       "<Figure size 640x480 with 1 Axes>"
      ]
     },
     "metadata": {},
     "output_type": "display_data"
    }
   ],
   "source": [
    "import matplotlib.pyplot as plt\n",
    "\n",
    "# 학습 과정 시각화\n",
    "plt.plot(history.history['loss'], label='Train Loss')\n",
    "plt.plot(history.history['val_loss'], label='Validation Loss')\n",
    "plt.xlabel('Epochs')\n",
    "plt.ylabel('Loss')\n",
    "plt.legend()\n",
    "plt.show()"
   ]
  },
  {
   "cell_type": "code",
   "execution_count": 17,
   "metadata": {
    "colab": {
     "base_uri": "https://localhost:8080/"
    },
    "id": "GJE9IehrumrH",
    "outputId": "ebcb6290-e12c-4124-e586-7ae28235bddb"
   },
   "outputs": [
    {
     "name": "stdout",
     "output_type": "stream",
     "text": [
      "2700/2700 [==============================] - 4s 2ms/step - loss: 13.1369\n",
      "Test loss : 1313.686%\n"
     ]
    }
   ],
   "source": [
    "# 모델 평가\n",
    "results = model.evaluate([x_test_t, x_test], y_test)\n",
    "print(f'Test loss : {results:.3%}')"
   ]
  },
  {
   "cell_type": "code",
   "execution_count": 18,
   "metadata": {},
   "outputs": [
    {
     "name": "stdout",
     "output_type": "stream",
     "text": [
      "2700/2700 [==============================] - 4s 1ms/step\n"
     ]
    },
    {
     "data": {
      "image/png": "[encoded data removed]",
      "text/plain": [
       "<Figure size 1200x600 with 1 Axes>"
      ]
     },
     "metadata": {},
     "output_type": "display_data"
    }
   ],
   "source": [
    "# 예측\n",
    "y_pred = model.predict([x_test_t, x_test])\n",
    "\n",
    "# 예측 결과 시각화\n",
    "plt.figure(figsize=(12, 6))\n",
    "plt.plot(y_test, label='Actual')\n",
    "plt.plot(y_pred, label='Predicted')\n",
    "plt.xlabel('Sample')\n",
    "plt.ylabel('Value')\n",
    "plt.legend()\n",
    "plt.show()"
   ]
  },
  {
   "cell_type": "markdown",
   "metadata": {},
   "source": [
    "---"
   ]
  },
  {
   "cell_type": "code",
   "execution_count": 19,
   "metadata": {},
   "outputs": [],
   "source": [
    "# 하나의 input 값 입력하기\n",
    "# input : [시각, [10개의 누적된 센서 값]]\n",
    "test_input_t = x_test_t[-1,:]\n",
    "test_input = x_test[-1,:]"
   ]
  },
  {
   "cell_type": "code",
   "execution_count": 20,
   "metadata": {},
   "outputs": [],
   "source": [
    "test_input_t = tf.reshape(test_input_t, [1, time_size])"
   ]
  },
  {
   "cell_type": "code",
   "execution_count": 21,
   "metadata": {},
   "outputs": [],
   "source": [
    "test_input = tf.reshape(test_input, [1, sequence_size, feature_size])"
   ]
  },
  {
   "cell_type": "code",
   "execution_count": 22,
   "metadata": {},
   "outputs": [
    {
     "name": "stdout",
     "output_type": "stream",
     "text": [
      "tf.Tensor([1], shape=(1,), dtype=int64)\n"
     ]
    }
   ],
   "source": [
    "test_ans = y_test[-1]\n",
    "print(test_ans)"
   ]
  },
  {
   "cell_type": "code",
   "execution_count": 23,
   "metadata": {},
   "outputs": [
    {
     "name": "stdout",
     "output_type": "stream",
     "text": [
      "1/1 [==============================] - 0s 14ms/step\n",
      "[[3.0759954]]\n"
     ]
    }
   ],
   "source": [
    "test_pre = model.predict([test_input_t, test_input])\n",
    "print(test_pre)"
   ]
  },
  {
   "cell_type": "code",
   "execution_count": 24,
   "metadata": {
    "id": "sJ93kKxcnJLy"
   },
   "outputs": [
    {
     "name": "stdout",
     "output_type": "stream",
     "text": [
      "INFO:tensorflow:Assets written to: DNN_231103_01/assets\n"
     ]
    },
    {
     "name": "stderr",
     "output_type": "stream",
     "text": [
      "INFO:tensorflow:Assets written to: DNN_231103_01/assets\n"
     ]
    }
   ],
   "source": [
    "# 학습한 모델 저장\n",
    "model.save(\"LSTM_DNN_231103_01\")"
   ]
  },
  {
   "cell_type": "markdown",
   "metadata": {},
   "source": [
    "### 하이퍼 파라미터 튜닝\n",
    "\n",
    "- 모델의 성능을 개선하기 위해 변수들을 조절함\n",
    "- 모델은 추론에 있어 정확성을 지니면서, 동시에 과적합을 방지해야 함\n",
    "- 현재 프로세스에서 튜닝할 수 있는 파라미터들\n",
    "    - **sqeuence_size (= look_back)**\n",
    "    - **LSTM layer의 hidden_size**\n",
    "    - batch_size\n",
    "    - learning_rate\n",
    "    - 활성화 함수\n",
    "    - 최적화 함수\n",
    "    - 계층의 크기(혹은 깊이) 등..."
   ]
  }
 ],
 "metadata": {
  "colab": {
   "provenance": []
  },
  "kernelspec": {
   "display_name": "Python 3",
   "language": "python",
   "name": "python3"
  },
  "language_info": {
   "codemirror_mode": {
    "name": "ipython",
    "version": 3
   },
   "file_extension": ".py",
   "mimetype": "text/x-python",
   "name": "python",
   "nbconvert_exporter": "python",
   "pygments_lexer": "ipython3",
   "version": "3.8.10"
  }
 },
 "nbformat": 4,
 "nbformat_minor": 1
}
