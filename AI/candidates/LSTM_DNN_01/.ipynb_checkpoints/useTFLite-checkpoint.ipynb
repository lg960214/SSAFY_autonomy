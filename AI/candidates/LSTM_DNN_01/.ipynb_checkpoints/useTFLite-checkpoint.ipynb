{
 "cells": [
  {
   "cell_type": "code",
   "execution_count": 1,
   "metadata": {},
   "outputs": [],
   "source": [
    "import numpy as np\n",
    "import tensorflow as tf"
   ]
  },
  {
   "cell_type": "code",
   "execution_count": 2,
   "metadata": {},
   "outputs": [],
   "source": [
    "# Load the TFLite model and allocate tensors.\n",
    "interpreter = tf.lite.Interpreter(model_path=\"model_231103_01.tflite\")\n",
    "interpreter.allocate_tensors()"
   ]
  },
  {
   "cell_type": "code",
   "execution_count": 3,
   "metadata": {},
   "outputs": [
    {
     "name": "stdout",
     "output_type": "stream",
     "text": [
      "{'name': 'serving_default_input_1:0', 'index': 0, 'shape': array([1, 7], dtype=int32), 'shape_signature': array([-1,  7], dtype=int32), 'dtype': <class 'numpy.float32'>, 'quantization': (0.0, 0), 'quantization_parameters': {'scales': array([], dtype=float32), 'zero_points': array([], dtype=int32), 'quantized_dimension': 0}, 'sparsity_parameters': {}}\n"
     ]
    }
   ],
   "source": [
    "print(interpreter.get_input_details()[0])"
   ]
  },
  {
   "cell_type": "code",
   "execution_count": 4,
   "metadata": {},
   "outputs": [
    {
     "name": "stdout",
     "output_type": "stream",
     "text": [
      "{'name': 'serving_default_input_2:0', 'index': 1, 'shape': array([ 1, 10,  1], dtype=int32), 'shape_signature': array([-1, 10,  1], dtype=int32), 'dtype': <class 'numpy.float32'>, 'quantization': (0.0, 0), 'quantization_parameters': {'scales': array([], dtype=float32), 'zero_points': array([], dtype=int32), 'quantized_dimension': 0}, 'sparsity_parameters': {}}\n"
     ]
    }
   ],
   "source": [
    "print(interpreter.get_input_details()[1])"
   ]
  },
  {
   "cell_type": "code",
   "execution_count": null,
   "metadata": {},
   "outputs": [],
   "source": [
    "# 입력 형태 설정 -> tflite 생성 때 미리 명시했으면 안해도 됨\n",
    "# interpreter.resize_tensor_input(0, (1,7))\n",
    "# interpreter.allocate_tensors()\n",
    "# interpreter.resize_tensor_input(1, (1, 10, 1))\n",
    "# interpreter.allocate_tensors()"
   ]
  },
  {
   "cell_type": "markdown",
   "metadata": {},
   "source": [
    "2023,11,8,3,10,1,11,69,246\n",
    "2023,11,8,3,10,1,12,69,246\n",
    "2023,11,8,3,10,1,13,69,246\n",
    "2023,11,8,3,10,1,14,69,246\n",
    "2023,11,8,3,10,1,15,69,246\n",
    "2023,11,8,3,10,1,16,69,246\n",
    "2023,11,8,3,10,1,17,69,246\n",
    "2023,11,8,3,10,1,18,69,246\n",
    "2023,11,8,3,10,1,19,69,246\n",
    "2023,11,8,3,10,1,20,69,246"
   ]
  },
  {
   "cell_type": "code",
   "execution_count": 17,
   "metadata": {},
   "outputs": [],
   "source": [
    "sample_0 = [2023,11,8,3,10,1,20]\n",
    "sample_0 = np.array(sample_0, dtype = np.float32)\n",
    "sample_0 = np.reshape(sample_0, (1,7))"
   ]
  },
  {
   "cell_type": "code",
   "execution_count": 18,
   "metadata": {},
   "outputs": [],
   "source": [
    "sample_1 = [69] * 10\n",
    "sample_1 = np.array(sample_1, dtype = np.float32)\n",
    "sample_1 = np.reshape(sample_1, (1,10,1))"
   ]
  },
  {
   "cell_type": "code",
   "execution_count": 19,
   "metadata": {},
   "outputs": [
    {
     "name": "stdout",
     "output_type": "stream",
     "text": [
      "[[242.83331]]\n"
     ]
    }
   ],
   "source": [
    "interpreter.set_tensor(interpreter.get_input_details()[0]['index'], sample_0)\n",
    "interpreter.set_tensor(interpreter.get_input_details()[1]['index'], sample_1)\n",
    "interpreter.invoke()\n",
    "\n",
    "# The function `get_tensor()` returns a copy of the tensor data.\n",
    "# Use `tensor()` in order to get a pointer to the tensor.\n",
    "output_data = interpreter.get_tensor(interpreter.get_output_details()[0]['index'])\n",
    "print(output_data)"
   ]
  },
  {
   "cell_type": "markdown",
   "metadata": {},
   "source": [
    "---\n",
    "\n",
    "## C++ 에서 따라하기\n",
    "\n",
    "```cpp\n",
    "#include <tensorflow/lite/interpreter.h>\n",
    "#include <tensorflow/lite/kernels/register.h>\n",
    "#include <tensorflow/lite/model.h>\n",
    "\n",
    "int main() {\n",
    "    // Load the TFLite model and allocate tensors\n",
    "    std::unique_ptr<tflite::FlatBufferModel> model = tflite::FlatBufferModel::BuildFromFile(\"model_231103_01.tflite\");\n",
    "    tflite::ops::builtin::BuiltinOpResolver resolver;\n",
    "    std::unique_ptr<tflite::Interpreter> interpreter;\n",
    "    tflite::InterpreterBuilder(model.get(), resolver)(&interpreter);\n",
    "    interpreter->AllocateTensors();\n",
    "\n",
    "    // Input data setup\n",
    "    int batch_size = 1;\n",
    "    int input_seq_length = 10;\n",
    "    int input_dim = 1; // sensor 갯수\n",
    "    int output_dim = 1;\n",
    "\n",
    "    float sample_0[7] = {2023, 11, 8, 3, 10, 1, 20};\n",
    "    float sample_1[10] = {69, 69, 69, 69, 69, 69, 69, 69, 69, 69};\n",
    "\n",
    "    // Set input tensors\n",
    "    interpreter->ResizeInput(0, {batch_size, 7});\n",
    "    interpreter->ResizeInput(1, {batch_size, 10, 1});\n",
    "    interpreter->AllocateTensors();\n",
    "\n",
    "    float* input_data_0 = interpreter->typed_input_tensor<float>(0);\n",
    "    float* input_data_1 = interpreter->typed_input_tensor<float>(1);\n",
    "\n",
    "    for (int i = 0; i < 7; i++) {\n",
    "        input_data_0[i] = sample_0[i];\n",
    "    }\n",
    "\n",
    "    for (int i = 0; i < 10; i++) {\n",
    "        input_data_1[i] = sample_1[i];\n",
    "    }\n",
    "\n",
    "    // Invoke inference\n",
    "    interpreter->Invoke();\n",
    "\n",
    "    // Get the output tensor\n",
    "    float* output_data = interpreter->typed_output_tensor<float>(0);\n",
    "\n",
    "    // Print the output data\n",
    "    for (int i = 0; i < output_dim; i++) {\n",
    "        std::cout << \"Output[\" << i << \"] = \" << output_data[i] << std::endl;\n",
    "    }\n",
    "\n",
    "    return 0;\n",
    "}\n",
    "\n",
    "```"
   ]
  },
  {
   "cell_type": "code",
   "execution_count": null,
   "metadata": {},
   "outputs": [],
   "source": []
  }
 ],
 "metadata": {
  "kernelspec": {
   "display_name": "Python 3",
   "language": "python",
   "name": "python3"
  },
  "language_info": {
   "codemirror_mode": {
    "name": "ipython",
    "version": 3
   },
   "file_extension": ".py",
   "mimetype": "text/x-python",
   "name": "python",
   "nbconvert_exporter": "python",
   "pygments_lexer": "ipython3",
   "version": "3.8.10"
  }
 },
 "nbformat": 4,
 "nbformat_minor": 4
}
