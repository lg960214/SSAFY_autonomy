{
 "cells": [
  {
   "cell_type": "code",
   "execution_count": 12,
   "id": "72ee80ec-cf29-4c68-88f8-2ad72196d3d0",
   "metadata": {
    "tags": []
   },
   "outputs": [
    {
     "name": "stdout",
     "output_type": "stream",
     "text": [
      "Requirement already satisfied: kfp==1.8.14 in /opt/conda/lib/python3.8/site-packages (1.8.14)\n",
      "Requirement already satisfied: absl-py<2,>=0.9 in /opt/conda/lib/python3.8/site-packages (from kfp==1.8.14) (0.11.0)\n",
      "Requirement already satisfied: PyYAML<6,>=5.3 in /opt/conda/lib/python3.8/site-packages (from kfp==1.8.14) (5.4.1)\n",
      "Requirement already satisfied: click<9,>=7.1.2 in /opt/conda/lib/python3.8/site-packages (from kfp==1.8.14) (7.1.2)\n",
      "Requirement already satisfied: strip-hints<1,>=0.1.8 in /opt/conda/lib/python3.8/site-packages (from kfp==1.8.14) (0.1.10)\n",
      "Requirement already satisfied: kfp-pipeline-spec<0.2.0,>=0.1.16 in /opt/conda/lib/python3.8/site-packages (from kfp==1.8.14) (0.1.16)\n",
      "Requirement already satisfied: cloudpickle<3,>=2.0.0 in /opt/conda/lib/python3.8/site-packages (from kfp==1.8.14) (2.2.1)\n",
      "Requirement already satisfied: jsonschema<4,>=3.0.1 in /opt/conda/lib/python3.8/site-packages (from kfp==1.8.14) (3.2.0)\n",
      "Requirement already satisfied: kubernetes<19,>=8.0.0 in /opt/conda/lib/python3.8/site-packages (from kfp==1.8.14) (12.0.1)\n",
      "Requirement already satisfied: typing-extensions<5,>=3.7.4 in /opt/conda/lib/python3.8/site-packages (from kfp==1.8.14) (4.8.0)\n",
      "Requirement already satisfied: fire<1,>=0.3.1 in /opt/conda/lib/python3.8/site-packages (from kfp==1.8.14) (0.4.0)\n",
      "Requirement already satisfied: pydantic<2,>=1.8.2 in /opt/conda/lib/python3.8/site-packages (from kfp==1.8.14) (1.10.13)\n",
      "Requirement already satisfied: typer<1.0,>=0.3.2 in /opt/conda/lib/python3.8/site-packages (from kfp==1.8.14) (0.9.0)\n",
      "Requirement already satisfied: docstring-parser<1,>=0.7.3 in /opt/conda/lib/python3.8/site-packages (from kfp==1.8.14) (0.15)\n",
      "Requirement already satisfied: tabulate<1,>=0.8.6 in /opt/conda/lib/python3.8/site-packages (from kfp==1.8.14) (0.8.10)\n",
      "Requirement already satisfied: google-cloud-storage<2,>=1.20.0 in /opt/conda/lib/python3.8/site-packages (from kfp==1.8.14) (1.44.0)\n",
      "Requirement already satisfied: protobuf<4,>=3.13.0 in /opt/conda/lib/python3.8/site-packages (from kfp==1.8.14) (3.20.1)\n",
      "Requirement already satisfied: uritemplate<4,>=3.0.1 in /opt/conda/lib/python3.8/site-packages (from kfp==1.8.14) (3.0.1)\n",
      "Requirement already satisfied: google-api-python-client<2,>=1.7.8 in /opt/conda/lib/python3.8/site-packages (from kfp==1.8.14) (1.12.11)\n",
      "Requirement already satisfied: requests-toolbelt<1,>=0.8.0 in /opt/conda/lib/python3.8/site-packages (from kfp==1.8.14) (0.9.1)\n",
      "Requirement already satisfied: kfp-server-api<2.0.0,>=1.1.2 in /opt/conda/lib/python3.8/site-packages (from kfp==1.8.14) (1.6.0)\n",
      "Requirement already satisfied: google-api-core!=2.0.*,!=2.1.*,!=2.2.*,!=2.3.0,<3.0.0dev,>=1.31.5 in /opt/conda/lib/python3.8/site-packages (from kfp==1.8.14) (2.10.0)\n",
      "Requirement already satisfied: Deprecated<2,>=1.2.7 in /opt/conda/lib/python3.8/site-packages (from kfp==1.8.14) (1.2.13)\n",
      "Requirement already satisfied: google-auth<2,>=1.6.1 in /opt/conda/lib/python3.8/site-packages (from kfp==1.8.14) (1.35.0)\n",
      "Requirement already satisfied: six in /opt/conda/lib/python3.8/site-packages (from absl-py<2,>=0.9->kfp==1.8.14) (1.15.0)\n",
      "Requirement already satisfied: wrapt<2,>=1.10 in /opt/conda/lib/python3.8/site-packages (from Deprecated<2,>=1.2.7->kfp==1.8.14) (1.12.1)\n",
      "Requirement already satisfied: termcolor in /opt/conda/lib/python3.8/site-packages (from fire<1,>=0.3.1->kfp==1.8.14) (1.1.0)\n",
      "Requirement already satisfied: googleapis-common-protos<2.0dev,>=1.56.2 in /opt/conda/lib/python3.8/site-packages (from google-api-core!=2.0.*,!=2.1.*,!=2.2.*,!=2.3.0,<3.0.0dev,>=1.31.5->kfp==1.8.14) (1.56.4)\n",
      "Requirement already satisfied: requests<3.0.0dev,>=2.18.0 in /opt/conda/lib/python3.8/site-packages (from google-api-core!=2.0.*,!=2.1.*,!=2.2.*,!=2.3.0,<3.0.0dev,>=1.31.5->kfp==1.8.14) (2.28.1)\n",
      "Requirement already satisfied: httplib2<1dev,>=0.15.0 in /opt/conda/lib/python3.8/site-packages (from google-api-python-client<2,>=1.7.8->kfp==1.8.14) (0.20.4)\n",
      "Requirement already satisfied: google-auth-httplib2>=0.0.3 in /opt/conda/lib/python3.8/site-packages (from google-api-python-client<2,>=1.7.8->kfp==1.8.14) (0.1.0)\n",
      "Requirement already satisfied: pyasn1-modules>=0.2.1 in /opt/conda/lib/python3.8/site-packages (from google-auth<2,>=1.6.1->kfp==1.8.14) (0.2.8)\n",
      "Requirement already satisfied: setuptools>=40.3.0 in /opt/conda/lib/python3.8/site-packages (from google-auth<2,>=1.6.1->kfp==1.8.14) (65.3.0)\n",
      "Requirement already satisfied: rsa<5,>=3.1.4 in /opt/conda/lib/python3.8/site-packages (from google-auth<2,>=1.6.1->kfp==1.8.14) (4.9)\n",
      "Requirement already satisfied: cachetools<5.0,>=2.0.0 in /opt/conda/lib/python3.8/site-packages (from google-auth<2,>=1.6.1->kfp==1.8.14) (4.2.4)\n",
      "Requirement already satisfied: google-cloud-core<3.0dev,>=1.6.0 in /opt/conda/lib/python3.8/site-packages (from google-cloud-storage<2,>=1.20.0->kfp==1.8.14) (2.3.2)\n",
      "Requirement already satisfied: google-resumable-media<3.0dev,>=1.3.0 in /opt/conda/lib/python3.8/site-packages (from google-cloud-storage<2,>=1.20.0->kfp==1.8.14) (2.3.3)\n",
      "Requirement already satisfied: pyrsistent>=0.14.0 in /opt/conda/lib/python3.8/site-packages (from jsonschema<4,>=3.0.1->kfp==1.8.14) (0.18.1)\n",
      "Requirement already satisfied: attrs>=17.4.0 in /opt/conda/lib/python3.8/site-packages (from jsonschema<4,>=3.0.1->kfp==1.8.14) (22.1.0)\n",
      "Requirement already satisfied: python-dateutil in /opt/conda/lib/python3.8/site-packages (from kfp-server-api<2.0.0,>=1.1.2->kfp==1.8.14) (2.8.2)\n",
      "Requirement already satisfied: certifi in /opt/conda/lib/python3.8/site-packages (from kfp-server-api<2.0.0,>=1.1.2->kfp==1.8.14) (2022.6.15)\n",
      "Requirement already satisfied: urllib3>=1.15 in /opt/conda/lib/python3.8/site-packages (from kfp-server-api<2.0.0,>=1.1.2->kfp==1.8.14) (1.26.11)\n",
      "Requirement already satisfied: websocket-client!=0.40.0,!=0.41.*,!=0.42.*,>=0.32.0 in /opt/conda/lib/python3.8/site-packages (from kubernetes<19,>=8.0.0->kfp==1.8.14) (1.4.1)\n",
      "Requirement already satisfied: requests-oauthlib in /opt/conda/lib/python3.8/site-packages (from kubernetes<19,>=8.0.0->kfp==1.8.14) (1.3.1)\n",
      "Requirement already satisfied: wheel in /opt/conda/lib/python3.8/site-packages (from strip-hints<1,>=0.1.8->kfp==1.8.14) (0.37.1)\n",
      "Requirement already satisfied: google-crc32c<2.0dev,>=1.0 in /opt/conda/lib/python3.8/site-packages (from google-resumable-media<3.0dev,>=1.3.0->google-cloud-storage<2,>=1.20.0->kfp==1.8.14) (1.5.0)\n",
      "Requirement already satisfied: pyparsing!=3.0.0,!=3.0.1,!=3.0.2,!=3.0.3,<4,>=2.4.2 in /opt/conda/lib/python3.8/site-packages (from httplib2<1dev,>=0.15.0->google-api-python-client<2,>=1.7.8->kfp==1.8.14) (3.0.9)\n",
      "Requirement already satisfied: pyasn1<0.5.0,>=0.4.6 in /opt/conda/lib/python3.8/site-packages (from pyasn1-modules>=0.2.1->google-auth<2,>=1.6.1->kfp==1.8.14) (0.4.8)\n",
      "Requirement already satisfied: idna<4,>=2.5 in /opt/conda/lib/python3.8/site-packages (from requests<3.0.0dev,>=2.18.0->google-api-core!=2.0.*,!=2.1.*,!=2.2.*,!=2.3.0,<3.0.0dev,>=1.31.5->kfp==1.8.14) (3.3)\n",
      "Requirement already satisfied: charset-normalizer<3,>=2 in /opt/conda/lib/python3.8/site-packages (from requests<3.0.0dev,>=2.18.0->google-api-core!=2.0.*,!=2.1.*,!=2.2.*,!=2.3.0,<3.0.0dev,>=1.31.5->kfp==1.8.14) (2.1.1)\n",
      "Requirement already satisfied: oauthlib>=3.0.0 in /opt/conda/lib/python3.8/site-packages (from requests-oauthlib->kubernetes<19,>=8.0.0->kfp==1.8.14) (3.2.0)\n"
     ]
    }
   ],
   "source": [
    "!pip install kfp==1.8.14"
   ]
  },
  {
   "cell_type": "code",
   "execution_count": 13,
   "id": "46749f76-a9fd-4f6d-ba9e-8ad22053864d",
   "metadata": {},
   "outputs": [],
   "source": [
    "import kfp\n",
    "from kfp import dsl\n",
    "from kfp.components import create_component_from_func, InputPath, OutputPath\n",
    "from kubernetes import client as k8s"
   ]
  },
  {
   "cell_type": "code",
   "execution_count": 14,
   "id": "894b3faa-5b66-4f3c-871a-fbc45f78374e",
   "metadata": {},
   "outputs": [],
   "source": [
    "client = kfp.Client()"
   ]
  },
  {
   "cell_type": "code",
   "execution_count": 15,
   "id": "bd0ee6a6-1012-4cd3-80de-9e1c7bc21250",
   "metadata": {
    "tags": []
   },
   "outputs": [
    {
     "data": {
      "text/plain": [
       "{'experiments': [{'created_at': datetime.datetime(2023, 11, 7, 3, 51, 16, tzinfo=tzlocal()),\n",
       "                  'description': '231107_Park_Test',\n",
       "                  'id': 'acbdfaad-d14a-46ef-82fc-2f5715f8d1c7',\n",
       "                  'name': '231107_Park_Test',\n",
       "                  'resource_references': [{'key': {'id': 'modeltest',\n",
       "                                                   'type': 'NAMESPACE'},\n",
       "                                           'name': None,\n",
       "                                           'relationship': 'OWNER'}],\n",
       "                  'storage_state': 'STORAGESTATE_AVAILABLE'},\n",
       "                 {'created_at': datetime.datetime(2023, 11, 8, 20, 10, 59, tzinfo=tzlocal()),\n",
       "                  'description': 'first experiment',\n",
       "                  'id': '498323bc-fe83-44a4-bf7b-4215abcd539e',\n",
       "                  'name': 'lab0',\n",
       "                  'resource_references': [{'key': {'id': 'modeltest',\n",
       "                                                   'type': 'NAMESPACE'},\n",
       "                                           'name': None,\n",
       "                                           'relationship': 'OWNER'}],\n",
       "                  'storage_state': 'STORAGESTATE_AVAILABLE'},\n",
       "                 {'created_at': datetime.datetime(2023, 11, 10, 0, 51, 16, tzinfo=tzlocal()),\n",
       "                  'description': None,\n",
       "                  'id': 'f15819eb-43a9-449b-a9b6-7f7858f5876a',\n",
       "                  'name': 'lab1',\n",
       "                  'resource_references': [{'key': {'id': 'modeltest',\n",
       "                                                   'type': 'NAMESPACE'},\n",
       "                                           'name': None,\n",
       "                                           'relationship': 'OWNER'}],\n",
       "                  'storage_state': 'STORAGESTATE_AVAILABLE'},\n",
       "                 {'created_at': datetime.datetime(2023, 11, 10, 6, 38, 32, tzinfo=tzlocal()),\n",
       "                  'description': None,\n",
       "                  'id': '362e8f1f-0dfd-417f-b5e1-d48b8e68abe5',\n",
       "                  'name': 'tuto ex',\n",
       "                  'resource_references': [{'key': {'id': 'modeltest',\n",
       "                                                   'type': 'NAMESPACE'},\n",
       "                                           'name': None,\n",
       "                                           'relationship': 'OWNER'}],\n",
       "                  'storage_state': 'STORAGESTATE_AVAILABLE'},\n",
       "                 {'created_at': datetime.datetime(2023, 11, 10, 8, 25, 18, tzinfo=tzlocal()),\n",
       "                  'description': None,\n",
       "                  'id': 'cbb4e523-06e0-43ef-8b95-48814aa8afe1',\n",
       "                  'name': 'hellworldex',\n",
       "                  'resource_references': [{'key': {'id': 'modeltest',\n",
       "                                                   'type': 'NAMESPACE'},\n",
       "                                           'name': None,\n",
       "                                           'relationship': 'OWNER'}],\n",
       "                  'storage_state': 'STORAGESTATE_AVAILABLE'},\n",
       "                 {'created_at': datetime.datetime(2023, 11, 10, 8, 36, 39, tzinfo=tzlocal()),\n",
       "                  'description': None,\n",
       "                  'id': 'c65325fc-c2f2-4b22-843f-6225317e142d',\n",
       "                  'name': 'testdata',\n",
       "                  'resource_references': [{'key': {'id': 'modeltest',\n",
       "                                                   'type': 'NAMESPACE'},\n",
       "                                           'name': None,\n",
       "                                           'relationship': 'OWNER'}],\n",
       "                  'storage_state': 'STORAGESTATE_AVAILABLE'},\n",
       "                 {'created_at': datetime.datetime(2023, 11, 13, 5, 38, 1, tzinfo=tzlocal()),\n",
       "                  'description': None,\n",
       "                  'id': 'd5666a13-b060-4732-9fb5-8c400da1f411',\n",
       "                  'name': 'lab2',\n",
       "                  'resource_references': [{'key': {'id': 'modeltest',\n",
       "                                                   'type': 'NAMESPACE'},\n",
       "                                           'name': None,\n",
       "                                           'relationship': 'OWNER'}],\n",
       "                  'storage_state': 'STORAGESTATE_AVAILABLE'},\n",
       "                 {'created_at': datetime.datetime(2023, 11, 13, 6, 10, 7, tzinfo=tzlocal()),\n",
       "                  'description': None,\n",
       "                  'id': '5bad7ee9-24a9-4bd8-8da3-e7ba03e20ae0',\n",
       "                  'name': 'lab1-add pipeline',\n",
       "                  'resource_references': [{'key': {'id': 'modeltest',\n",
       "                                                   'type': 'NAMESPACE'},\n",
       "                                           'name': None,\n",
       "                                           'relationship': 'OWNER'}],\n",
       "                  'storage_state': 'STORAGESTATE_AVAILABLE'},\n",
       "                 {'created_at': datetime.datetime(2023, 11, 14, 6, 46, 4, tzinfo=tzlocal()),\n",
       "                  'description': None,\n",
       "                  'id': '1caedc4f-a3c1-408f-870f-931a0c85503e',\n",
       "                  'name': 'get-data pipeline',\n",
       "                  'resource_references': [{'key': {'id': 'modeltest',\n",
       "                                                   'type': 'NAMESPACE'},\n",
       "                                           'name': None,\n",
       "                                           'relationship': 'OWNER'}],\n",
       "                  'storage_state': 'STORAGESTATE_AVAILABLE'},\n",
       "                 {'created_at': datetime.datetime(2023, 11, 14, 8, 33, 2, tzinfo=tzlocal()),\n",
       "                  'description': None,\n",
       "                  'id': '7e8919ef-2161-42a3-9c1b-8bf1e5e922be',\n",
       "                  'name': 'get-data-pipeline-1',\n",
       "                  'resource_references': [{'key': {'id': 'modeltest',\n",
       "                                                   'type': 'NAMESPACE'},\n",
       "                                           'name': None,\n",
       "                                           'relationship': 'OWNER'}],\n",
       "                  'storage_state': 'STORAGESTATE_ARCHIVED'}],\n",
       " 'next_page_token': 'eyJTb3J0QnlGaWVsZE5hbWUiOiJDcmVhdGVkQXRJblNlYyIsIlNvcnRCeUZpZWxkVmFsdWUiOjE3MDAwMTAyNDAsIlNvcnRCeUZpZWxkUHJlZml4IjoiZXhwZXJpbWVudHMuIiwiS2V5RmllbGROYW1lIjoiVVVJRCIsIktleUZpZWxkVmFsdWUiOiI2M2VkOWE0ZS1jODRhLTQwZDQtYWIwYy00MTE1YTMxODQ4MmIiLCJLZXlGaWVsZFByZWZpeCI6ImV4cGVyaW1lbnRzLiIsIklzRGVzYyI6ZmFsc2UsIk1vZGVsTmFtZSI6ImV4cGVyaW1lbnRzIiwiRmlsdGVyIjpudWxsfQ==',\n",
       " 'total_size': 12}"
      ]
     },
     "execution_count": 15,
     "metadata": {},
     "output_type": "execute_result"
    }
   ],
   "source": [
    "client.list_experiments()"
   ]
  },
  {
   "cell_type": "code",
   "execution_count": 21,
   "id": "e1fe3f74-2659-4d4d-b8b6-71c0815b6b51",
   "metadata": {},
   "outputs": [],
   "source": [
    "def getData(bucket: str):\n",
    "    import pandas as pd\n",
    "    import influxdb_client\n",
    "    import os\n",
    "    \n",
    "    config_path = \"/mnt/data/config.ini\"\n",
    "    \n",
    "    retDf = pd.DataFrame()\n",
    "    colName = []\n",
    "    client = influxdb_client.InfluxDBClient.from_config_file(config_path)\n",
    "    query_api = client.query_api()\n",
    "    query = f'from(bucket:\"{bucket}\")\\\n",
    "    |> range(start:-1d)\\\n",
    "    |> filter(fn:(r)=> r._measurement==\"SensorData\" and r.Name==\"M16M\")'\n",
    "\n",
    "    result = query_api.query(query=query)\n",
    "\n",
    "    for table in result:\n",
    "        col = table.records[0].get_field()\n",
    "        colName.append(col)\n",
    "        temp = []\n",
    "        for record in table.records:\n",
    "            temp.append((int(record.get_value())))\n",
    "        retDf[col] = temp\n",
    "    \n",
    "    retDf = retDf[[\"MM\", \"DD\", \"Day\", \"HH\", \"Min\", \"Sec\",\n",
    "    \"Illuminance\", \"Movement\", \"Manual\", \"On\",\n",
    "     \"Brightness\"]]\n",
    "    \n",
    "    print(retDf)\n",
    "\n",
    "def okData(train_data):\n",
    "    import pandas as pd\n",
    "    \n",
    "    print(train_data[\"MM\"])\n",
    "\n",
    "BASE_IMAGE = \"python:3.7\"\n",
    "getData_op = create_component_from_func(getData, \n",
    "                                    base_image=BASE_IMAGE,\n",
    "                                    packages_to_install=[\"pandas\", \"influxdb_client\"])\n",
    "\n",
    "okData_op = create_component_from_func(okData, \n",
    "                                    base_image=BASE_IMAGE,\n",
    "                                    packages_to_install=[\"pandas\", \"influxdb_client\"])\n",
    "\n",
    "\n",
    "# pod setting\n",
    "def pod_defaults(op):\n",
    "    volume_name = \"a305-storages\"\n",
    "    volume_mount_path = \"/mnt/data\"\n",
    "    \n",
    "    op.set_memory_request('10Mi').set_cpu_request('10m')\n",
    "    \n",
    "    volume = k8s.V1Volume(\n",
    "        name=volume_name,\n",
    "        persistent_volume_claim=k8s.V1PersistentVolumeClaimVolumeSource(claim_name=volume_name),\n",
    "    )\n",
    "\n",
    "    volume_mount = k8s.V1VolumeMount(\n",
    "        mount_path=volume_mount_path,\n",
    "        name=volume_name,\n",
    "    )\n",
    "\n",
    "    op.add_pvolumes({volume_mount_path: volume})\n",
    "\n",
    "    return op"
   ]
  },
  {
   "cell_type": "code",
   "execution_count": 24,
   "id": "c1a95d87-daa2-4577-b14f-315b3ec7dc72",
   "metadata": {},
   "outputs": [],
   "source": [
    "# 2. Build a pipeline using the component                      \n",
    "\n",
    "# pipeline의 이름은 Calculation pipeline\n",
    "@dsl.pipeline(\n",
    "   name='Calculation pipeline2',\n",
    "   description='A toy pipeline that performs arithmetic calculations.'\n",
    ")\n",
    "def calc_pipeline(\n",
    "   bucket: str =''\n",
    "):\n",
    "    add_task = pod_defaults(getData_op(bucket))  # 1st task"
   ]
  },
  {
   "cell_type": "code",
   "execution_count": 25,
   "id": "00393c3c-96c8-4e73-ae2c-75e05dc62a52",
   "metadata": {},
   "outputs": [
    {
     "data": {
      "text/html": [
       "<a href=\"/pipeline/#/experiments/details/7e8919ef-2161-42a3-9c1b-8bf1e5e922be\" target=\"_blank\" >Experiment details</a>."
      ],
      "text/plain": [
       "<IPython.core.display.HTML object>"
      ]
     },
     "metadata": {},
     "output_type": "display_data"
    },
    {
     "data": {
      "text/html": [
       "<a href=\"/pipeline/#/runs/details/e335d4a5-9e79-4479-a580-2f3f6a885732\" target=\"_blank\" >Run details</a>."
      ],
      "text/plain": [
       "<IPython.core.display.HTML object>"
      ]
     },
     "metadata": {},
     "output_type": "display_data"
    },
    {
     "data": {
      "text/plain": [
       "RunPipelineResult(run_id=e335d4a5-9e79-4479-a580-2f3f6a885732)"
      ]
     },
     "execution_count": 25,
     "metadata": {},
     "output_type": "execute_result"
    }
   ],
   "source": [
    "arguments = {\"bucket\" : \"MaiL\"}\n",
    "EXPERIMENT_NAME = 'get-data-pipeline-1'\n",
    "kfp.Client().create_run_from_pipeline_func(calc_pipeline,\n",
    "                                           arguments=arguments,\n",
    "                                           experiment_name=EXPERIMENT_NAME)"
   ]
  },
  {
   "cell_type": "code",
   "execution_count": null,
   "id": "31c3e151-be9e-4097-82b0-bf0308f81d9f",
   "metadata": {},
   "outputs": [],
   "source": []
  },
  {
   "cell_type": "code",
   "execution_count": null,
   "id": "ba42d754-56c3-4ebd-afc0-e83f5beba83b",
   "metadata": {},
   "outputs": [],
   "source": []
  },
  {
   "cell_type": "code",
   "execution_count": null,
   "id": "3860bac3-a6bd-461e-8078-e855061620eb",
   "metadata": {},
   "outputs": [],
   "source": []
  },
  {
   "cell_type": "code",
   "execution_count": null,
   "id": "4b5b6c1a-21d8-41d4-bf9f-937f2018e10d",
   "metadata": {},
   "outputs": [],
   "source": []
  },
  {
   "cell_type": "code",
   "execution_count": null,
   "id": "a5c29e30-9b11-436c-8944-79c0c6346920",
   "metadata": {},
   "outputs": [],
   "source": []
  },
  {
   "cell_type": "code",
   "execution_count": null,
   "id": "c6ce80f5-dc20-4133-82ff-4e155e4a8fe4",
   "metadata": {},
   "outputs": [],
   "source": []
  }
 ],
 "metadata": {
  "kernelspec": {
   "display_name": "Python 3 (ipykernel)",
   "language": "python",
   "name": "python3"
  },
  "language_info": {
   "codemirror_mode": {
    "name": "ipython",
    "version": 3
   },
   "file_extension": ".py",
   "mimetype": "text/x-python",
   "name": "python",
   "nbconvert_exporter": "python",
   "pygments_lexer": "ipython3",
   "version": "3.8.10"
  }
 },
 "nbformat": 4,
 "nbformat_minor": 5
}
