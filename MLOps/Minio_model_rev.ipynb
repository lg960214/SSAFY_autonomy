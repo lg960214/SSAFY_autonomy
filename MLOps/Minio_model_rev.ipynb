{
 "cells": [
  {
   "cell_type": "code",
   "execution_count": 1,
   "id": "1f90989d-d7fa-4ff4-8fbf-9cbde77d7030",
   "metadata": {},
   "outputs": [
    {
     "data": {
      "text/plain": [
       "('3f825203267422fde759aa4a9f8ca99b-1', None)"
      ]
     },
     "execution_count": 1,
     "metadata": {},
     "output_type": "execute_result"
    }
   ],
   "source": [
    "import minio\n",
    "minioClient = minio.Minio(\"minio-service.kubeflow:9000\",\n",
    "        access_key=\"minio\",\n",
    "        secret_key=\"minio123\",\n",
    "        secure=False\n",
    "    )\n",
    "bucket = \"mail\"\n",
    "minio_path = \"M16M.tflite\"\n",
    "local_path = \"./vol-1/model_rev.tflite\"\n",
    "minioClient.fput_object(bucket, minio_path, local_path)"
   ]
  },
  {
   "cell_type": "code",
   "execution_count": null,
   "id": "161afb68-ee87-4d74-95e5-8d9efa1413a7",
   "metadata": {},
   "outputs": [],
   "source": []
  }
 ],
 "metadata": {
  "kernelspec": {
   "display_name": "Python 3 (ipykernel)",
   "language": "python",
   "name": "python3"
  },
  "language_info": {
   "codemirror_mode": {
    "name": "ipython",
    "version": 3
   },
   "file_extension": ".py",
   "mimetype": "text/x-python",
   "name": "python",
   "nbconvert_exporter": "python",
   "pygments_lexer": "ipython3",
   "version": "3.8.10"
  }
 },
 "nbformat": 4,
 "nbformat_minor": 5
}
