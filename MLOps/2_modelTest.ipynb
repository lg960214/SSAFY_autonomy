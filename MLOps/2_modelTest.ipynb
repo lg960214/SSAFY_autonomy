{
 "cells": [
  {
   "cell_type": "code",
   "execution_count": 15,
   "id": "4124b64f-d6bb-4568-8bf6-f18b7296d9a5",
   "metadata": {},
   "outputs": [],
   "source": [
    "import kfp\n",
    "from kfp import dsl\n",
    "from kfp.components import create_component_from_func, InputPath, OutputPath\n",
    "from kubernetes import client as k8s"
   ]
  },
  {
   "cell_type": "code",
   "execution_count": 16,
   "id": "501da7e5-0917-4426-9717-05370cfc4f38",
   "metadata": {},
   "outputs": [],
   "source": [
    "client = kfp.Client()"
   ]
  },
  {
   "cell_type": "code",
   "execution_count": 3,
   "id": "f3b5bfb3-97dd-48df-9575-2cfd0957ea06",
   "metadata": {
    "collapsed": true,
    "jupyter": {
     "outputs_hidden": true
    },
    "tags": []
   },
   "outputs": [
    {
     "data": {
      "text/plain": [
       "{'experiments': [{'created_at': datetime.datetime(2023, 11, 7, 3, 51, 16, tzinfo=tzlocal()),\n",
       "                  'description': '231107_Park_Test',\n",
       "                  'id': 'acbdfaad-d14a-46ef-82fc-2f5715f8d1c7',\n",
       "                  'name': '231107_Park_Test',\n",
       "                  'resource_references': [{'key': {'id': 'modeltest',\n",
       "                                                   'type': 'NAMESPACE'},\n",
       "                                           'name': None,\n",
       "                                           'relationship': 'OWNER'}],\n",
       "                  'storage_state': 'STORAGESTATE_AVAILABLE'},\n",
       "                 {'created_at': datetime.datetime(2023, 11, 8, 20, 10, 59, tzinfo=tzlocal()),\n",
       "                  'description': 'first experiment',\n",
       "                  'id': '498323bc-fe83-44a4-bf7b-4215abcd539e',\n",
       "                  'name': 'lab0',\n",
       "                  'resource_references': [{'key': {'id': 'modeltest',\n",
       "                                                   'type': 'NAMESPACE'},\n",
       "                                           'name': None,\n",
       "                                           'relationship': 'OWNER'}],\n",
       "                  'storage_state': 'STORAGESTATE_AVAILABLE'},\n",
       "                 {'created_at': datetime.datetime(2023, 11, 10, 0, 51, 16, tzinfo=tzlocal()),\n",
       "                  'description': None,\n",
       "                  'id': 'f15819eb-43a9-449b-a9b6-7f7858f5876a',\n",
       "                  'name': 'lab1',\n",
       "                  'resource_references': [{'key': {'id': 'modeltest',\n",
       "                                                   'type': 'NAMESPACE'},\n",
       "                                           'name': None,\n",
       "                                           'relationship': 'OWNER'}],\n",
       "                  'storage_state': 'STORAGESTATE_AVAILABLE'},\n",
       "                 {'created_at': datetime.datetime(2023, 11, 10, 6, 38, 32, tzinfo=tzlocal()),\n",
       "                  'description': None,\n",
       "                  'id': '362e8f1f-0dfd-417f-b5e1-d48b8e68abe5',\n",
       "                  'name': 'tuto ex',\n",
       "                  'resource_references': [{'key': {'id': 'modeltest',\n",
       "                                                   'type': 'NAMESPACE'},\n",
       "                                           'name': None,\n",
       "                                           'relationship': 'OWNER'}],\n",
       "                  'storage_state': 'STORAGESTATE_AVAILABLE'},\n",
       "                 {'created_at': datetime.datetime(2023, 11, 10, 8, 25, 18, tzinfo=tzlocal()),\n",
       "                  'description': None,\n",
       "                  'id': 'cbb4e523-06e0-43ef-8b95-48814aa8afe1',\n",
       "                  'name': 'hellworldex',\n",
       "                  'resource_references': [{'key': {'id': 'modeltest',\n",
       "                                                   'type': 'NAMESPACE'},\n",
       "                                           'name': None,\n",
       "                                           'relationship': 'OWNER'}],\n",
       "                  'storage_state': 'STORAGESTATE_AVAILABLE'},\n",
       "                 {'created_at': datetime.datetime(2023, 11, 10, 8, 36, 39, tzinfo=tzlocal()),\n",
       "                  'description': None,\n",
       "                  'id': 'c65325fc-c2f2-4b22-843f-6225317e142d',\n",
       "                  'name': 'testdata',\n",
       "                  'resource_references': [{'key': {'id': 'modeltest',\n",
       "                                                   'type': 'NAMESPACE'},\n",
       "                                           'name': None,\n",
       "                                           'relationship': 'OWNER'}],\n",
       "                  'storage_state': 'STORAGESTATE_AVAILABLE'},\n",
       "                 {'created_at': datetime.datetime(2023, 11, 13, 5, 38, 1, tzinfo=tzlocal()),\n",
       "                  'description': None,\n",
       "                  'id': 'd5666a13-b060-4732-9fb5-8c400da1f411',\n",
       "                  'name': 'lab2',\n",
       "                  'resource_references': [{'key': {'id': 'modeltest',\n",
       "                                                   'type': 'NAMESPACE'},\n",
       "                                           'name': None,\n",
       "                                           'relationship': 'OWNER'}],\n",
       "                  'storage_state': 'STORAGESTATE_AVAILABLE'},\n",
       "                 {'created_at': datetime.datetime(2023, 11, 13, 6, 10, 7, tzinfo=tzlocal()),\n",
       "                  'description': None,\n",
       "                  'id': '5bad7ee9-24a9-4bd8-8da3-e7ba03e20ae0',\n",
       "                  'name': 'lab1-add pipeline',\n",
       "                  'resource_references': [{'key': {'id': 'modeltest',\n",
       "                                                   'type': 'NAMESPACE'},\n",
       "                                           'name': None,\n",
       "                                           'relationship': 'OWNER'}],\n",
       "                  'storage_state': 'STORAGESTATE_AVAILABLE'},\n",
       "                 {'created_at': datetime.datetime(2023, 11, 14, 6, 46, 4, tzinfo=tzlocal()),\n",
       "                  'description': None,\n",
       "                  'id': '1caedc4f-a3c1-408f-870f-931a0c85503e',\n",
       "                  'name': 'get-data pipeline',\n",
       "                  'resource_references': [{'key': {'id': 'modeltest',\n",
       "                                                   'type': 'NAMESPACE'},\n",
       "                                           'name': None,\n",
       "                                           'relationship': 'OWNER'}],\n",
       "                  'storage_state': 'STORAGESTATE_AVAILABLE'},\n",
       "                 {'created_at': datetime.datetime(2023, 11, 14, 8, 33, 2, tzinfo=tzlocal()),\n",
       "                  'description': None,\n",
       "                  'id': '7e8919ef-2161-42a3-9c1b-8bf1e5e922be',\n",
       "                  'name': 'get-data-pipeline-1',\n",
       "                  'resource_references': [{'key': {'id': 'modeltest',\n",
       "                                                   'type': 'NAMESPACE'},\n",
       "                                           'name': None,\n",
       "                                           'relationship': 'OWNER'}],\n",
       "                  'storage_state': 'STORAGESTATE_ARCHIVED'}],\n",
       " 'next_page_token': 'eyJTb3J0QnlGaWVsZE5hbWUiOiJDcmVhdGVkQXRJblNlYyIsIlNvcnRCeUZpZWxkVmFsdWUiOjE3MDAwMTAyNDAsIlNvcnRCeUZpZWxkUHJlZml4IjoiZXhwZXJpbWVudHMuIiwiS2V5RmllbGROYW1lIjoiVVVJRCIsIktleUZpZWxkVmFsdWUiOiI2M2VkOWE0ZS1jODRhLTQwZDQtYWIwYy00MTE1YTMxODQ4MmIiLCJLZXlGaWVsZFByZWZpeCI6ImV4cGVyaW1lbnRzLiIsIklzRGVzYyI6ZmFsc2UsIk1vZGVsTmFtZSI6ImV4cGVyaW1lbnRzIiwiRmlsdGVyIjpudWxsfQ==',\n",
       " 'total_size': 11}"
      ]
     },
     "execution_count": 3,
     "metadata": {},
     "output_type": "execute_result"
    }
   ],
   "source": [
    "client.list_experiments()"
   ]
  },
  {
   "cell_type": "code",
   "execution_count": 26,
   "id": "d5993673-a720-420a-9269-3db24d59a0da",
   "metadata": {},
   "outputs": [],
   "source": [
    "def repeat_line(output_dataframe_path: OutputPath()):\n",
    "    import pandas as pd\n",
    "    from pathlib import Path\n",
    "    \n",
    "    data = {\n",
    "    'year': [2016, 2017, 2018],\n",
    "    'GDP rate': [2.8, 3.1, 3.0],\n",
    "    'GDP': ['1.637M', '1.73M', '1.83M']\n",
    "    }\n",
    " \n",
    "    df = pd.DataFrame(data)\n",
    "    \n",
    "    # Create the directory if it doesn't exist\n",
    "    output_path = Path(output_dataframe_path)\n",
    "    output_path.mkdir(parents=True, exist_ok=True)\n",
    "\n",
    "    # Save the DataFrame to a CSV file\n",
    "    df.to_csv(output_path / \"filename.csv\", mode='w')\n",
    "    \n",
    "# Reading bigger data\n",
    "def print_text(dataframe_path: InputPath()): # The \"text\" input is untyped so that any data can be printed\n",
    "    import pandas as pd\n",
    "    from pathlib import Path\n",
    "    \n",
    "    dataframe_path = Path(dataframe_path)\n",
    "\n",
    "    # Read the DataFrame from the CSV file\n",
    "    df = pd.read_csv(dataframe_path / \"filename.csv\")\n",
    "    \n",
    "    print(df)\n",
    "    \n",
    "    \n",
    "# component 생성 시 base image 지정할 수 있음\n",
    "BASE_IMAGE = \"python:3.7\"\n",
    "first_op = create_component_from_func(repeat_line, \n",
    "                                    base_image=BASE_IMAGE,\n",
    "                                      packages_to_install=[\"pandas\", \"pathlib\"])\n",
    "\n",
    "second_op = create_component_from_func(print_text, \n",
    "                                    base_image=BASE_IMAGE,\n",
    "                                       packages_to_install=[\"pandas\", \"pathlib\"])\n",
    "\n",
    "\n",
    "# pod setting\n",
    "def pod_defaults(op):\n",
    "    op.set_memory_request('10Mi').set_cpu_request('10m')\n",
    "    return op"
   ]
  },
  {
   "cell_type": "code",
   "execution_count": 27,
   "id": "9b33d399-f076-4335-b64a-90cadbd35867",
   "metadata": {},
   "outputs": [],
   "source": [
    "# 2. Build a pipeline using the component                      \n",
    "\n",
    "# pipeline의 이름은 Calculation pipeline\n",
    "@dsl.pipeline(\n",
    "   name='data-test',\n",
    "   description='A toy pipeline'\n",
    ")\n",
    "def print_repeating_lines_pipeline():\n",
    "    repeat_lines_task = pod_defaults(first_op())\n",
    "    pod_defaults(second_op(repeat_lines_task.output))"
   ]
  },
  {
   "cell_type": "code",
   "execution_count": 28,
   "id": "7f2cc4ea-9ebf-4496-985b-7f58c61a24de",
   "metadata": {},
   "outputs": [
    {
     "data": {
      "text/html": [
       "<a href=\"/pipeline/#/experiments/details/8b8f0215-dcaa-4f74-b712-0ec2d1a346ad\" target=\"_blank\" >Experiment details</a>."
      ],
      "text/plain": [
       "<IPython.core.display.HTML object>"
      ]
     },
     "metadata": {},
     "output_type": "display_data"
    },
    {
     "data": {
      "text/html": [
       "<a href=\"/pipeline/#/runs/details/66f02cf6-0c08-4bd7-b652-eb0f3fec0d83\" target=\"_blank\" >Run details</a>."
      ],
      "text/plain": [
       "<IPython.core.display.HTML object>"
      ]
     },
     "metadata": {},
     "output_type": "display_data"
    },
    {
     "data": {
      "text/plain": [
       "RunPipelineResult(run_id=66f02cf6-0c08-4bd7-b652-eb0f3fec0d83)"
      ]
     },
     "execution_count": 28,
     "metadata": {},
     "output_type": "execute_result"
    }
   ],
   "source": [
    "arguments = {}\n",
    "EXPERIMENT_NAME = 'print_data_pipeline'\n",
    "kfp.Client().create_run_from_pipeline_func(print_repeating_lines_pipeline,\n",
    "                                           arguments=arguments,\n",
    "                                           experiment_name=EXPERIMENT_NAME)"
   ]
  },
  {
   "cell_type": "code",
   "execution_count": null,
   "id": "047f90ad-9663-4806-86d5-db227cd69640",
   "metadata": {},
   "outputs": [],
   "source": []
  },
  {
   "cell_type": "code",
   "execution_count": null,
   "id": "87a7b8e4-d35a-4dd7-9380-2a60fabfa0a8",
   "metadata": {},
   "outputs": [],
   "source": []
  },
  {
   "cell_type": "code",
   "execution_count": null,
   "id": "79197c88-228a-43b6-87dd-236f285f5852",
   "metadata": {},
   "outputs": [],
   "source": []
  },
  {
   "cell_type": "code",
   "execution_count": null,
   "id": "3b33c4ad-82ba-4f9a-acd0-72ad18dbb9da",
   "metadata": {},
   "outputs": [],
   "source": []
  },
  {
   "cell_type": "code",
   "execution_count": null,
   "id": "b0243637-8e54-4e9b-9495-0328db6c0c15",
   "metadata": {},
   "outputs": [],
   "source": []
  },
  {
   "cell_type": "code",
   "execution_count": null,
   "id": "e4aa177a-0720-45be-abb2-6ba0691ce38e",
   "metadata": {},
   "outputs": [],
   "source": []
  },
  {
   "cell_type": "code",
   "execution_count": null,
   "id": "ff0f3f05-276e-4bdb-aca7-cf37b790a0b5",
   "metadata": {},
   "outputs": [],
   "source": []
  }
 ],
 "metadata": {
  "kernelspec": {
   "display_name": "Python 3 (ipykernel)",
   "language": "python",
   "name": "python3"
  },
  "language_info": {
   "codemirror_mode": {
    "name": "ipython",
    "version": 3
   },
   "file_extension": ".py",
   "mimetype": "text/x-python",
   "name": "python",
   "nbconvert_exporter": "python",
   "pygments_lexer": "ipython3",
   "version": "3.8.10"
  }
 },
 "nbformat": 4,
 "nbformat_minor": 5
}
